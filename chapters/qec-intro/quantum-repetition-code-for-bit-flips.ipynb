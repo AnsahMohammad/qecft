{
 "cells": [
  {
   "cell_type": "markdown",
   "id": "a23fe73c",
   "metadata": {
    "tags": []
   },
   "source": [
    "# Quantum repetition code for bit-flips"
   ]
  },
  {
   "cell_type": "markdown",
   "id": "b00286a1",
   "metadata": {
    "tags": [
     "remove-cell"
    ]
   },
   "source": [
    "<div style=\"width:100%;text-align:right;font-size:0.75em;opacity:0.2\">Latex macros</div>\n",
    "$ \\newcommand{\\ket}[1]{|#1\\rangle} $\n",
    "$ \\newcommand{\\bra}[1]{\\langle #1|} $\n",
    "$\\newcommand{\\iu}{{i\\mkern1mu}}$\n",
    "$ \\newcommand{\\e}{\\mathrm{e}}$\n",
    "$\\newcommand{\\bigo}{\\mathcal{O}}$\n",
    "$\\newcommand{\\set}[1]{\\{#1\\}}$\n",
    "$\\newcommand{\\oper}[1]{\\mathcal{#1}}$\n",
    "$\\newcommand{\\st}[1]{\\mathcal{#1}}$\n",
    "$\\newcommand{\\vecs}[1]{\\mathcal{#1}}$\n",
    "$\\newcommand{\\group}[1]{\\mathcal{#1}}$\n",
    "$\\newcommand{\\union}{\\hspace{0.25em}\\cup\\hspace{0.25em}}$"
   ]
  },
  {
   "cell_type": "markdown",
   "id": "2c240a27-9259-45b3-8675-1346aa49fed9",
   "metadata": {},
   "source": [
    "We are now in a position to introduce quantum codes. Our goal is to understand how a set of qubits transmitted through a noisy channel can be protected from any errors they experience. The process is similar to classical codes in that we will take the state of $k$ qubits and encode it into the state of $n$ qubits. However, our task will be complicated by the fact that the operations on qubits are not just bit-flips but any possible interaction with the environment, such as phase-flips or more general rotations. Fortunately, we will discover that this possibility of infinite types of errors will not be too large a hindrance and we can construct good codes."
   ]
  },
  {
   "cell_type": "markdown",
   "id": "2a80f924-95b8-4f42-b8d2-f7b83da4d946",
   "metadata": {},
   "source": [
    "## Setup\n",
    "Suppose that Alice has a quantum transmission channel to Bob that is noisy. Let's assume for starters that the noisy channel applies, with probability $p$, the quantum bit-flip operator $X$ to each qubits that pass through it. We will dicuss channels with different errors later on.\n",
    "\n",
    "Alice wants to transmit to Bob the quantum one-qubit state $\\ket{\\psi} = \\alpha\\ket{0} + \\beta\\ket{1}$. If she sends the state as is, there is a probability $(1-p)$ that Bob receives the state $\\ket{\\psi}$ and probability $p$ that Bob receives the state $\\ket{\\tilde\\psi} = X\\ket{\\psi} = \\beta\\ket{0} + \\alpha\\ket{1}$. Moreover, Bob has no way of knowing whether an error occured or not.\n",
    "\n",
    "To magnify the chances of successful communication, Alice and Bob can employ a code very similar to the classical repetition code."
   ]
  },
  {
   "cell_type": "markdown",
   "id": "357a0d85-8560-4d20-b30c-64136afa30d9",
   "metadata": {},
   "source": [
    "## Encoding\n",
    "In the quantum version of the repetition code, Alice takes the unencoded qubit and encodes it into the state of three qubits in a repetitive manner. This is best seen by first noting the transformation on the basis states,\n",
    "\\begin{align}\n",
    "  \\ket{0} \\to \\ket{\\bar{0}} = \\ket{000}, \\\\\n",
    "  \\ket{1} \\to \\ket{\\bar{1}} = \\ket{111}.\n",
    "\\end{align}\n",
    "Then, we can realize that the qubit in state $\\ket{\\psi}$ is encoded as\n",
    "\\begin{equation}\n",
    "  \\ket{\\psi}\\ket{00} = (\\alpha\\ket{0} + \\beta\\ket{1})\\ket{00} \\to \\ket{\\bar\\psi} = \\alpha\\ket{000} + \\beta\\ket{111},\n",
    "\\end{equation}\n",
    "where the $\\ket{00}$ are ancilla qubits.\n",
    "\n",
    "We will call the original qubit the *unencoded logical qubit*, the three qubits the *physical qubits*, and their combined state $\\ket{\\bar\\psi}$ the *encoded logical qubit*.\n",
    "\n",
    "The encoding transformation can be done using the quantum circuit, which takes the unencoded logical qubit and two ancillas in state $\\ket{\\psi}\\ket{00}$, to the encoded logical qubit in state $\\ket{\\bar\\psi}$."
   ]
  },
  {
   "cell_type": "code",
   "execution_count": 1,
   "id": "d06f561b-4b19-4768-aad0-e84696ca42ba",
   "metadata": {},
   "outputs": [
    {
     "data": {
      "image/png": "[encoded data removed]",
      "text/plain": [
       "<PIL.Image.Image image mode=RGB size=157x123>"
      ]
     },
     "metadata": {},
     "output_type": "display_data"
    }
   ],
   "source": [
    "import stac\n",
    "enc_circ = stac.Circuit()\n",
    "enc_circ.append('CX', 0, 1)\n",
    "enc_circ.append('CX', 0, 2)\n",
    "enc_circ.draw()"
   ]
  },
  {
   "cell_type": "markdown",
   "id": "3bbd70c6-66c6-42bb-a5a2-3e157db99242",
   "metadata": {},
   "source": [
    "#### Task 1 (On paper)\n",
    "Determine the encoding of the $\\ket{+}$ state and $\\ket{-}$ state."
   ]
  },
  {
   "cell_type": "markdown",
   "id": "920a3da5-abaf-48bd-b10f-a88bc27fed91",
   "metadata": {},
   "source": [
    "#### Task 2 (On paper)\n",
    "Determine logical gate operations $\\bar{X}$ and $\\bar{Z}$ for the three-qubit repetition code. These are operations that act on the logical basis $\\set{\\ket{\\bar{0}}, \\ket{\\bar{1}}}$, in the normal way, i.e.\n",
    "  \\begin{align}\n",
    "    \\bar{X}\\ket{\\bar{0}} &= \\ket{\\bar{1}}, \\quad \\bar{X}\\ket{\\bar{1}} = \\ket{\\bar{0}}, \\\\\n",
    "    \\bar{Z}\\ket{\\bar{0}} &= \\ket{\\bar{0}}, \\quad \\bar{Z}\\ket{\\bar{1}} = -\\ket{\\bar{1}}.\n",
    "  \\end{align}\n",
    "  They can be constructed by some combination of operations on the three physical qubits. You will discover that there are possibly multiple ways of doing so."
   ]
  },
  {
   "cell_type": "markdown",
   "id": "c91576f7-2ddf-40bc-b44a-c819b44db4cf",
   "metadata": {},
   "source": [
    "### Errors on the state\n",
    "Alice sends the three physical qubits through the noisy channel. Each of them will have probability $p$ of being flipped. If the second qubit is flipped, then Bob receives the state $X_2\\ket{\\bar\\psi} = \\ket{\\tilde\\psi} = \\alpha\\ket{010} + \\beta\\ket{101}$. In total there, are eight possiblities for the error, with the probabilities similar to the classical case.\n",
    "\n",
    "|  Error       | Probability | \n",
    "|:------------:|:-----------:|\n",
    "|  $I$         | $(1-p)^3$   |\n",
    "|  $X_0$       | $p(1-p)^2$  |\n",
    "|  $X_1$       | $p(1-p)^2$  |\n",
    "|  $X_2$       | $p(1-p)^2$  |\n",
    "|  $X_0X_1$    | $?$         |\n",
    "|  $X_0X_2$    | $?$         |\n",
    "|  $X_1X_2$    | $?$         |\n",
    "|  $X_0X_1X_2$ | $p^3$       |\n",
    "\n",
    "*Question:* Fill the ? in the table above."
   ]
  },
  {
   "cell_type": "markdown",
   "id": "4b460159-ecab-4ccc-8a1e-fbaeaff13fb1",
   "metadata": {},
   "source": [
    "#### Task 3 (On paper)\n",
    "Determine the impact of each error on the input basis states.\n",
    "\n",
    "Let input state be $\\ket{000}$\n",
    "\n",
    "|  Error       | Output state | \n",
    "|:------------:|:------------:|\n",
    "|  $I$         | $\\ket{000}$  |\n",
    "|  $X_0$       | $\\ket{100}$  |\n",
    "|  $X_1$       | $?$          |\n",
    "|  $X_2$       | $?$          |\n",
    "|  $X_0X_1$    | $?$          |\n",
    "|  $X_0X_2$    | $?$          |\n",
    "|  $X_1X_2$    | $?$          |\n",
    "|  $X_0X_1X_2$ | $?$          |\n",
    "\n",
    "Let input state be $\\ket{111}$\n",
    "\n",
    "|  Error       | Output state | \n",
    "|:------------:|:------------:|\n",
    "|  $I$         | $\\ket{111}$  |\n",
    "|  $X_0$       | $\\ket{011}$  |\n",
    "|  $X_1$       | $?$          |\n",
    "|  $X_2$       | $?$          |\n",
    "|  $X_0X_1$    | $?$          |\n",
    "|  $X_0X_2$    | $?$          |\n",
    "|  $X_1X_2$    | $?$          |\n",
    "|  $X_0X_1X_2$ | $?$          |\n",
    "\n",
    "Do different errors result in the same output state?"
   ]
  },
  {
   "cell_type": "markdown",
   "id": "01d9fa33-ee2d-41fc-8786-938a40861366",
   "metadata": {},
   "source": [
    "As in the classical case, the code can only correctly recover the state if only zero or one error occurs and fails otherwise. Simiarly, as in the classical case, if $p$ is sufficiently small, then two or three errors are very unlikely to occur."
   ]
  },
  {
   "cell_type": "markdown",
   "id": "9eb947b9-5d0b-4ef3-a013-0434aab879d5",
   "metadata": {},
   "source": [
    "## Decoding\n",
    "\n",
    "There are three parts to decoding\n",
    "\n",
    "1. Identifying which error has occured.\n",
    "2. Correcting the corrupted codeword.\n",
    "3. Turning the corrected codeword back into message (this part is also called decoding)."
   ]
  },
  {
   "cell_type": "markdown",
   "id": "ec4c2f24-218a-4eba-92b3-7eb598aebe3c",
   "metadata": {},
   "source": [
    "### Detecting the error\n",
    "Assuming that only errors from the set $\\st{E} = \\set{I,X_1,X_2,X_3}$ occur, Bob has to (a) identify which of these errors has occurred and (b) then correct for it. His task is more difficult than in the classical case because he can't measure the received state as this would destroy the superposition, and he would gain very little information about $\\alpha$ and $\\beta$ which is what Alice is really trying to transmit to Bob.\n",
    "\n",
    "Instead the correct strategy for Bob to pursue is to do a partial measurement that only determines whether one of the qubits is different from the other two. This is the replacement of the majority voting algorithm in the classical case, but quite similar.  This type of measurement does not probe the value of $\\alpha$ or $\\beta$ and therefore the superposition is maintained. Specifically Bob compares the value of the first two qubits, and compares the value of the last two qubits. If there is a difference, then he will know which error occured. The following circuit accomplishes this task, in which two ancilla qubits are required."
   ]
  },
  {
   "cell_type": "code",
   "execution_count": 3,
   "id": "d7c26912-d783-4a9b-a729-b5d7ea4f407a",
   "metadata": {},
   "outputs": [
    {
     "data": {
      "image/png": "[encoded data removed]",
      "text/plain": [
       "<PIL.Image.Image image mode=RGB size=391x266>"
      ]
     },
     "metadata": {},
     "output_type": "display_data"
    }
   ],
   "source": [
    "synd_circ = stac.Circuit()\n",
    "synd_circ.append('CX', 0, 3)\n",
    "synd_circ.append('CX', 1, 3)\n",
    "synd_circ.append('TICK')\n",
    "synd_circ.append('CX', 1, 4)\n",
    "synd_circ.append('CX', 2, 4)\n",
    "synd_circ.append('TICK')\n",
    "synd_circ.append('M', 3)\n",
    "synd_circ.append('M', 4)\n",
    "synd_circ.draw()"
   ]
  },
  {
   "cell_type": "markdown",
   "id": "c2a597cf-37db-4493-a7e9-39f168f7c183",
   "metadata": {},
   "source": [
    "This circuit has three parts. In the first part, the values of the first and second qubits are added to the first ancilla qubit. This is done by $CX$ gates, which if you recall, in the computational basis, add the value of the control qubit to the target qubit,\n",
    "\\begin{equation}\n",
    " CX_{01}\\ket{a}\\ket{b} = \\ket{a}\\ket{a \\oplus b}.\n",
    "\\end{equation}\n",
    "\n",
    "If the first two qubits have the same value, then either none of the $CX$ gates will trigger or both will, and so the value of the ancilla will not change. This can be seen from the calculation,\n",
    "\\begin{align}\n",
    "  CX_{03}CX_{13} (\\alpha\\ket{000} + \\beta\\ket{111})\\ket{00} &= \\alpha CX_{03}CX_{13}\\ket{000}\\ket{00} + \\beta CX_{03}CX_{13}\\ket{111}\\ket{00}, \\\\\n",
    "                 &= \\alpha \\ket{000}\\ket{00} + \\beta \\ket{111}\\ket{0+1+1,0},                        \\\\\n",
    "                 &= \\alpha \\ket{000}\\ket{00} + \\beta \\ket{111}\\ket{00}.\n",
    "\\end{align}\n",
    "Here, the $CX$ gates don't trigger for the first term in the superposition, but do trigger for the second term, which we have made explicit.\n",
    "\n",
    "If the first two qubits are different, then only one of the $CX$ gates will trigger. For instance,\n",
    "\\begin{align}\n",
    "  CX_{14}CX_{24}(\\alpha\\ket{010} + \\beta\\ket{101})\\ket{00} &= \\alpha CX_{14}CX_{24}\\ket{010}\\ket{00} + \\beta CX_{14}CX_{24}\\ket{101}\\ket{00}, \\\\\n",
    "                &= \\alpha \\ket{010}\\ket{0+1,0} + \\beta \\ket{101}\\ket{0+1,0}, \\\\\n",
    "                &= \\alpha \\ket{010}\\ket{10} + \\beta \\ket{101}\\ket{10}.\n",
    "\\end{align}\n",
    "Hence, the value of the ancilla has flipped.\n",
    "\n",
    "The same story plays out for the second part of the circuit except for the second and third qubits. Subsequently, the two ancilla are measured. The measurement results are called the *syndrome*, and they contain information, which can be used to infer which error has occured. This is summarized in the following table.\n",
    "|  Syndrome | Inferred error |\n",
    "|:---------:|:--------------:|\n",
    "|  $00$     | $I$            | \n",
    "|  $01$     | $X_3$          |\n",
    "|  $10$     | $X_1$          |\n",
    "|  $11$     | $X_2$          |\n",
    "\n",
    "We say inferred error, because this is the error Bob assumes, but there is small chance of a two or three qubit error, so there is difference between the actual error and the inferred error.\n",
    "\n",
    "*Question:* Above, we have shown how row 1 and row 4 of the table are obtained. Work out the other two rows by hand.\n",
    "\n",
    "### Correcting the error\n",
    "\n",
    "Once, Bob has inferred an error, he can fix the corrupted codeword by applying the inverse of the error. In this case, the error operators are self-inverse, so he just has to apply them again to fix the corrupted codeword, eg. if he thinks error $X_1$ has occured, he applied $X_1$ to the corrupted state to fix it.\n",
    "\n",
    "### Decoding\n",
    "\n",
    "Finally, Bob can undo the encoding operation to recover the one-qubit state Alice meant to send. Since, the encoding operation was self-inverse, Bob just has to pass $\\ket{\\bar\\psi}$ through it to recover $\\ket{\\psi}$."
   ]
  },
  {
   "cell_type": "markdown",
   "id": "7eef9a41-c447-4646-92f2-2e85a9211f47",
   "metadata": {},
   "source": [
    "### A note on probability of success\n",
    "We don't have to repeat our analysis of the probability of success as it is exactly the same as in the classical case."
   ]
  },
  {
   "cell_type": "markdown",
   "id": "2afe1cb7-a240-49dc-8221-656d37d6c30c",
   "metadata": {},
   "source": [
    "*Question:* Consider the 5-qubit repetition code, in which the coding operates in a similar fashion as the 3-qubit one we have discussed, but with five qubits instead of three. Can this larger code possibly correct errors in which two qubits are flipped? "
   ]
  },
  {
   "cell_type": "markdown",
   "id": "02f1b0c8-3299-479d-a2b2-9d4cd5299f40",
   "metadata": {},
   "source": [
    "## A linear algebraic analysis of the quantum repetition code (optional)\n",
    "One way of understanding why the code works is by understanding the vector spaces we have dealt with above. \n",
    "\n",
    "First, there was the $2$-dimensional Hilbert space of the unencoded logical qubit. This was mapped to a $2$-dimensional subspace of the $2^3$-dimensional Hilbert space of the three physical qubits, the latter of which is called the *codespace*, and the former the *quantum code*. Errors move the encoded state into other $2$-dimensional subspaces of the codespace. For instance, the quantum code had a basis $\\set{\\ket{000},\\ket{111}}$. The error $X_2$ moved the state to a subspace with basis $\\set{\\ket{010},\\ket{101}}$. We can tabulate all these movements as follows.\n",
    "\n",
    "| Error | Subspace basis              |\n",
    "|:-----:|:---------------------------:|\n",
    "| $I$   | $\\set{\\ket{000},\\ket{111}}$ |\n",
    "| $X_1$ | $\\set{\\ket{100},\\ket{011}}$ |\n",
    "| $X_2$ | $\\set{\\ket{010},\\ket{101}}$ |\n",
    "| $X_3$ | $\\set{\\ket{001},\\ket{110}}$ |\n",
    "\n",
    "From this analysis we can see why the code works to correct bit-flip errors. Each error doesn't fundamentally destroy the state, it only moves it to a different subspace. The process of error-detection is to determine which subspace we are in, which does not distort the actual state. The process of error-correction moves us back to the original quantum code subspace. We will use this notion of subspaces again when we formally define quantum error-correction.\n",
    "\n",
    "*Question:* Recall that a vector subspace is characterized by a projector $\\Pi = \\sum_i \\ket{\\psi_i}\\bra{\\psi_i}$, where $\\set{\\ket{\\psi_i}}_i$ is a basis for the subspace. Show that $\\Pi^2 = \\Pi$. \n",
    "\n",
    "*Question:* Determine the projector onto the code for the three-qubit code."
   ]
  },
  {
   "cell_type": "markdown",
   "id": "30b47342-3d2c-4f92-adcd-9fe0f2229225",
   "metadata": {},
   "source": [
    "### Correcting $X$ rotation errors\n",
    "The code we have created can correct errors besides simple $X$ errors. The unitary,\n",
    "\\begin{equation}\n",
    "  R_x^{(i)}(\\theta) = \\cos\\theta I - \\iu \\sin\\theta X^{(i)},\n",
    "\\end{equation}\n",
    "is the rotation about the $X$ axis on the Bloch sphere for the $i$-th qubit. Suppose, the encoded state $\\ket{\\bar\\psi}$ is effected by this unitary during its passage through the communication channel between Alice and Bob. We now show that the error detection and correction procedures we have described above deal with this error, and Bob has to do nothing extra to correct for such an error.\n",
    "\n",
    "To see this we calculate the corrupted codeword state,\n",
    "\\begin{equation}\n",
    "  \\ket{\\tilde\\psi} = R_x^{(i)}(\\theta)\\ket{\\bar\\psi} = \\cos\\theta\\ket{\\bar\\psi} - \\iu \\sin\\theta X^{(i)}\\ket{\\bar\\psi}.\n",
    "\\end{equation}\n",
    "When, we run this state through the error-detection circuit (in which we append two ancillas to the state), we obtain before the measurement step, the state\n",
    "\\begin{align}\n",
    "  (\\cos\\theta\\ket{\\bar\\psi} - \\iu \\sin\\theta X^{(i)}\\ket{\\bar\\psi})\\ket{00} \\to \\cos\\theta\\ket{\\bar\\psi}\\ket{00} - \\iu \\sin\\theta X^{(i)}\\ket{\\bar\\psi}\\ket{s},\n",
    "\\end{align}\n",
    "where $\\ket{s}$ is the syndrome associated with $X^{(i)}$. When we measure the ancilla, either the measurement result is $00$ (with probability $|\\cos\\theta|^2$) and the corrupted codeword state collapses to $\\ket{\\bar\\psi}$, or the measurement result is $s$ (with probability $|\\sin\\theta|^2$) and the corrupted codeword state collapses to $X^{(i)}\\ket{\\bar\\psi}$. In either case, the subsequent error-correction procedure will correct the state.\n",
    "\n",
    "What we see here is that linearity of quantum mechanics and the collapse mechanism on measurement allows us to correct errors which are a linear combination of errors in $E$. This is an incredibly powerful result, and we will prove it more generally later on."
   ]
  },
  {
   "cell_type": "markdown",
   "id": "6d1c14f1-0a95-4a48-8e1c-47e0a3a8c542",
   "metadata": {},
   "source": [
    "### Phase-flip errors\n",
    "Quantum bit-flip errors are only one kind of errors. quantum systems in interacting with the environment can suffer from other types of error. One such possibility is phase-flip errors, i.e. where the qubits can be acted upon by the $Z$ operator. This code fails to identify phase-flip errors and therefore cannot correct them either.\n",
    "\n",
    "To see this note that the action of, say, $Z_1$ on the logical state is\n",
    "\\begin{equation}\n",
    "  Z_1\\ket{\\bar\\psi} = Z_1(\\alpha\\ket{000} + \\beta\\ket{111}) = \\alpha\\ket{000} - \\beta\\ket{111}.\n",
    "\\end{equation}\n",
    "This state is identical to a different state Alice might have sent, so there is no way that Bob can determine that an error has occured. In the subspace picture discussed above single-qubit $Z$ errors keep the state within the code. This makes it impossible, both here and generally, for the error to be detected. A well-designed code ensures that every possible error moves the state out of the code and into some other subspace of the codespace.\n",
    "\n",
    "<div style=\"display:none\">\n",
    "    for a code, lets |P> be the generic encoded state. Then, an error E can have one of three types of effects.\n",
    "\n",
    "1. E distorts |P> in a way that the effects of E can be reversed. For the bit-flip repetition code if E=X_0 is an example. So this E is correctable by the code.\n",
    "\n",
    "2. E distorts |P> in a way that the effects are not corrected. There are two varieties of this. \n",
    "\n",
    "   a. For the bit-flip repetition code, if E=X_0X_1X_2, then |000> is taken to |111> and vice versa.  This means that the error-detection procedure thinks no error has occurred.\n",
    "\n",
    "   b. For the bit-flip repetition code, if E=X_0X_1, then the error-detection process thinks that E=X_3 has occurred. So error-correction does the wrong correction.\n",
    "\n",
    "Such Es are not correctable by the code.\n",
    "\n",
    "3. E does not distort |P> at all, i.e. E|P> = |P>. For instance, for the bit-flip repetition code, E=Z_0Z_1 does not effect the encoded state at all. Therefore, the code is immune to such Es. For the Shor code, E=Z_0Z_1 also turns out to be an error the code is immune to.\n",
    "\n",
    "For the purpose of Alice successfully communicating with Bob, both 1 and 3 are good things, while 2 is bad. Particularly, if you keep studying QEC, you will codes are sometimes designed so category 3 is as large as possible.  If the errors don't even change the encoded state, we are in ideal territory.\n",
    "</div>"
   ]
  },
  {
   "cell_type": "code",
   "execution_count": null,
   "id": "ef781c98-4468-4d39-8fc4-26a338b374a8",
   "metadata": {},
   "outputs": [],
   "source": []
  }
 ],
 "metadata": {
  "kernelspec": {
   "display_name": "Python 3 (ipykernel)",
   "language": "python",
   "name": "python3"
  },
  "language_info": {
   "codemirror_mode": {
    "name": "ipython",
    "version": 3
   },
   "file_extension": ".py",
   "mimetype": "text/x-python",
   "name": "python",
   "nbconvert_exporter": "python",
   "pygments_lexer": "ipython3",
   "version": "3.9.15"
  },
  "widgets": {
   "application/vnd.jupyter.widget-state+json": {
    "state": {},
    "version_major": 2,
    "version_minor": 0
   }
  }
 },
 "nbformat": 4,
 "nbformat_minor": 5
}
