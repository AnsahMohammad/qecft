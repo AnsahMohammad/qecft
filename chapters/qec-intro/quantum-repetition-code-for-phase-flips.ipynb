{
 "cells": [
  {
   "cell_type": "markdown",
   "id": "a23fe73c",
   "metadata": {
    "tags": []
   },
   "source": [
    "# Quantum repetition code for phase-flips"
   ]
  },
  {
   "cell_type": "markdown",
   "id": "b00286a1",
   "metadata": {
    "tags": [
     "remove-cell"
    ]
   },
   "source": [
    "<div style=\"width:100%;text-align:right;font-size:0.75em;opacity:0.2\">Latex macros</div>\n",
    "$ \\newcommand{\\ket}[1]{|#1\\rangle} $\n",
    "$ \\newcommand{\\bra}[1]{\\langle #1|} $\n",
    "$\\newcommand{\\iu}{{i\\mkern1mu}}$\n",
    "$ \\newcommand{\\e}{\\mathrm{e}}$\n",
    "$\\newcommand{\\bigo}{\\mathcal{O}}$\n",
    "$\\newcommand{\\set}[1]{\\{#1\\}}$\n",
    "$\\newcommand{\\oper}[1]{\\mathcal{#1}}$\n",
    "$\\newcommand{\\st}[1]{\\mathcal{#1}}$\n",
    "$\\newcommand{\\vecs}[1]{\\mathcal{#1}}$\n",
    "$\\newcommand{\\group}[1]{\\mathcal{#1}}$\n",
    "$\\newcommand{\\union}{\\hspace{0.25em}\\cup\\hspace{0.25em}}$"
   ]
  },
  {
   "cell_type": "markdown",
   "id": "a53c36fb-a008-40ae-8d74-7b669abb1c76",
   "metadata": {},
   "source": [
    "The code presented in the previous notebook could only correct for $X$ errors. Now, we present a code that can only correct for $Z$ errors. In the next notebook, we will combine these codes together to correct for both $X$ and $Z$ errors and more.\n",
    "\n",
    "Alice, again wants to send a one-qubit state $\\ket{\\psi}$ to Bob, but via a channel that applies the $Z$ operator to qubits with probability $p$. This results in the phase flip,\n",
    "\\begin{equation}\n",
    "  \\ket{\\tilde\\psi} = Z\\ket{\\psi} = Z(\\alpha\\ket{0} + \\beta\\ket{1}) = \\alpha\\ket{0} - \\beta\\ket{1}.\n",
    "\\end{equation}\n",
    "As before, Bob has no way of knowing if any errors occured."
   ]
  },
  {
   "cell_type": "markdown",
   "id": "47615345-a6d4-4306-a127-4409725c333a",
   "metadata": {},
   "source": [
    "### Encoding\n",
    "To protect against such type of errors, we will employ a repetition code, but with a different basis. Now,\n",
    "\\begin{align}\n",
    "  \\ket{0} \\to \\ket{\\bar{0}} = \\ket{+++}, \\\\\n",
    "  \\ket{1} \\to \\ket{\\bar{1}} = \\ket{---}.\n",
    "\\end{align}\n",
    "For this code basis, a qubit in state $\\ket{\\psi}$ is encoded as\n",
    "\\begin{equation}\n",
    "  \\ket{\\psi}\\ket{00} = (\\alpha\\ket{0} + \\beta\\ket{1})\\ket{00} \\to \\ket{\\bar\\psi} = \\alpha\\ket{+++} + \\beta\\ket{---}. \n",
    "\\end{equation}\n",
    "This is done via the following circuit."
   ]
  },
  {
   "cell_type": "code",
   "execution_count": 1,
   "id": "abad8a67-9c42-4446-8966-b63f7e8fbd8b",
   "metadata": {},
   "outputs": [
    {
     "data": {
      "image/png": "[encoded data removed]",
      "text/plain": [
       "<PIL.Image.Image image mode=RGB size=227x124>"
      ]
     },
     "metadata": {},
     "output_type": "display_data"
    }
   ],
   "source": [
    "import stac\n",
    "enc_circ = stac.Circuit()\n",
    "enc_circ.append('CX', 0, 1)\n",
    "enc_circ.append('CX', 0, 2)\n",
    "enc_circ.append('TICK')\n",
    "for i in range(3):\n",
    "    enc_circ.append('H', i)\n",
    "enc_circ.draw()"
   ]
  },
  {
   "cell_type": "markdown",
   "id": "19754c18-ebb8-4e2b-a794-9ad457f3f57c",
   "metadata": {},
   "source": [
    "#### Task 1 (On paper)\n",
    "Determine logical gate operations $\\bar{X}$ and $\\bar{Z}$ for the three-qubit repetition code for phase-flips. These are operations that act on the logical basis $\\set{\\ket{\\bar{0}}, \\ket{\\bar{1}}}$, in the normal way, i.e.\n",
    "  \\begin{align}\n",
    "    \\bar{X}\\ket{\\bar{0}} &= \\ket{\\bar{1}}, \\quad \\bar{X}\\ket{\\bar{1}} = \\ket{\\bar{0}}, \\\\\n",
    "    \\bar{Z}\\ket{\\bar{0}} &= \\ket{\\bar{0}}, \\quad \\bar{Z}\\ket{\\bar{1}} = -\\ket{\\bar{1}}.\n",
    "  \\end{align}\n",
    "  They can be constructed by some combination of operations on the three physical qubits. You will discover that there are possibly multiple ways of doing so."
   ]
  },
  {
   "cell_type": "markdown",
   "id": "3741cf9b-1b0a-45be-98c0-8a44cb5c4702",
   "metadata": {},
   "source": [
    "### Errors\n",
    "The possible errors on the encoded state are given as follows.\n",
    "\n",
    "| Error       | Probability |\n",
    "|:-----------:|:-----------:|\n",
    "| $I$         | $(1-p)^3$   |\n",
    "| $Z_1$       | $p(1-p)^2$  |\n",
    "| $Z_2$       | $p(1-p)^2$  |\n",
    "| $Z_3$       | $p(1-p)^2$  |\n",
    "| $Z_1Z_2$    | $p^2(1-p)$  |\n",
    "| $Z_1Z_3$    | $p^2(1-p)$  |\n",
    "| $Z_2Z_3$    | $p^2(1-p)$  |\n",
    "| $Z_1Z_2Z_3$ | $p^3$       |"
   ]
  },
  {
   "cell_type": "markdown",
   "id": "df379787-d67a-4218-bab2-aa973d4f5bc6",
   "metadata": {},
   "source": [
    "#### Task 2 (On paper)\n",
    "Determine the impact of each error on the input basis states.\n",
    "\n",
    "Let input state be $\\ket{000}$\n",
    "\n",
    "|  Error       | Output state | \n",
    "|:------------:|:------------:|\n",
    "|  $I$         | $\\ket{+++}$  |\n",
    "|  $Z_0$       | $\\ket{+++}$  |\n",
    "|  $Z_1$       | $?$          |\n",
    "|  $Z_2$       | $?$          |\n",
    "|  $Z_0Z_1$    | $?$          |\n",
    "|  $Z_0Z_2$    | $?$          |\n",
    "|  $Z_1Z_2$    | $?$          |\n",
    "|  $Z_0Z_1Z_2$ | $?$          |\n",
    "\n",
    "Let input state be $\\ket{111}$\n",
    "\n",
    "|  Error       | Output state | \n",
    "|:------------:|:------------:|\n",
    "|  $I$         | $\\ket{---}$  |\n",
    "|  $Z_0$       | $\\ket{+--}$  |\n",
    "|  $Z_1$       | $?$          |\n",
    "|  $Z_2$       | $?$          |\n",
    "|  $Z_0Z_1$    | $?$          |\n",
    "|  $Z_0Z_2$    | $?$          |\n",
    "|  $Z_1Z_2$    | $?$          |\n",
    "|  $Z_0Z_1Z_2$ | $?$          |\n",
    "\n",
    "Do different errors result in the same output state?"
   ]
  },
  {
   "cell_type": "markdown",
   "id": "f1ec1f51-ea21-4769-9073-e0abe383732f",
   "metadata": {},
   "source": [
    "As before, we will assume that $p$ is small, so we will only attempt to correct the errors $\\set{I,Z_1,Z_2,Z_3}$. The effect of the $Z$ errors is to flip the state between plus and minus. So, for instance,\n",
    "\\begin{equation}\n",
    "  Z_1\\ket{\\bar{\\psi}} = \\alpha Z_1\\ket{+++} + \\beta Z_1\\ket{---} = \\alpha\\ket{-++} + \\beta\\ket{+--}.\n",
    "\\end{equation}"
   ]
  },
  {
   "cell_type": "markdown",
   "id": "f27e06dc-5f93-4d61-b745-968b4ef38dac",
   "metadata": {},
   "source": [
    "### Decoding\n",
    "The error detection strategy is the same as before. Bob employs a circuit that compares the value of two pairs of qubits, but in the plus/minus basis. This is accomplished using the following circuit."
   ]
  },
  {
   "cell_type": "code",
   "execution_count": 2,
   "id": "1ee8ee1f-a090-49b4-a7a6-cfce74ceea07",
   "metadata": {},
   "outputs": [
    {
     "data": {
      "image/png": "[encoded data removed]",
      "text/plain": [
       "<PIL.Image.Image image mode=RGB size=343x204>"
      ]
     },
     "metadata": {},
     "output_type": "display_data"
    }
   ],
   "source": [
    "synd_circ = stac.Circuit()\n",
    "synd_circ.append('CZ', 0, 3)\n",
    "synd_circ.append('CZ', 1, 3)\n",
    "synd_circ.append('TICK')\n",
    "synd_circ.append('CZ', 1, 4)\n",
    "synd_circ.append('CZ', 2, 4)\n",
    "synd_circ.append('TICK')\n",
    "synd_circ.append('M', 3)\n",
    "synd_circ.append('M', 4)\n",
    "synd_circ.draw()"
   ]
  },
  {
   "cell_type": "markdown",
   "id": "0f9db541-650e-4e7c-9c74-9616c013d948",
   "metadata": {},
   "source": [
    "To determine the syndromes, we can do the following"
   ]
  },
  {
   "cell_type": "code",
   "execution_count": 4,
   "id": "c0c249ec-e2ec-4df8-9087-cb0074b6f74c",
   "metadata": {},
   "outputs": [
    {
     "data": {
      "image/png": "[encoded data removed]",
      "text/plain": [
       "<PIL.Image.Image image mode=RGB size=534x204>"
      ]
     },
     "metadata": {},
     "output_type": "display_data"
    },
    {
     "name": "stdout",
     "output_type": "stream",
     "text": [
      "[0 0]\n",
      "[0 0]\n",
      "[0 0]\n",
      "[0 0]\n",
      "[0 0]\n",
      "[0 0]\n",
      "[0 0]\n",
      "[0 0]\n",
      "[0 0]\n",
      "[0 0]\n"
     ]
    }
   ],
   "source": [
    "circ = stac.Circuit()\n",
    "# encode the 0 state\n",
    "circ += enc_circ\n",
    "\n",
    "# add an error\n",
    "circ.append('Z', 0)\n",
    "\n",
    "# do a syndrome measurement\n",
    "circ += synd_circ\n",
    "\n",
    "# draw to make sure you we understand what is happending\n",
    "circ.draw()\n",
    "\n",
    "# sample the output 10 times\n",
    "circ.sample(10)"
   ]
  },
  {
   "cell_type": "markdown",
   "id": "054c0306-e483-4e2b-adf9-fd5746e2cc3e",
   "metadata": {},
   "source": [
    "#### Task 3\n",
    "Fill the following table\n",
    "\n",
    "| Syndrome | Inferred error |\n",
    "|:--------:|:--------------:|\n",
    "| $00$     | $I$            |\n",
    "| $01$     |                |\n",
    "| $10$     |                |\n",
    "| $11$     |                |"
   ]
  },
  {
   "cell_type": "markdown",
   "id": "b87ae8fe-2ffb-4cc1-a2c9-ed38d1f26c93",
   "metadata": {},
   "source": [
    "In this code, if Bob infers that errors $Z_i$ occurs, than he applies $Z_i$ to the corrupted codeword to fix it."
   ]
  },
  {
   "cell_type": "markdown",
   "id": "5fdbd9c1-0641-45f5-b46a-64802848c11b",
   "metadata": {},
   "source": [
    "### Bit-flip errors\n",
    "We won't belabor the point that this code cannot fix bit-flip errors. "
   ]
  },
  {
   "cell_type": "code",
   "execution_count": null,
   "id": "0288d01e-f1ba-41cf-9d44-06a651320e47",
   "metadata": {},
   "outputs": [],
   "source": []
  }
 ],
 "metadata": {
  "kernelspec": {
   "display_name": "Python 3 (ipykernel)",
   "language": "python",
   "name": "python3"
  },
  "language_info": {
   "codemirror_mode": {
    "name": "ipython",
    "version": 3
   },
   "file_extension": ".py",
   "mimetype": "text/x-python",
   "name": "python",
   "nbconvert_exporter": "python",
   "pygments_lexer": "ipython3",
   "version": "3.9.15"
  },
  "widgets": {
   "application/vnd.jupyter.widget-state+json": {
    "state": {},
    "version_major": 2,
    "version_minor": 0
   }
  }
 },
 "nbformat": 4,
 "nbformat_minor": 5
}
