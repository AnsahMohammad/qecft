{
 "cells": [
  {
   "cell_type": "markdown",
   "id": "a23fe73c",
   "metadata": {
    "tags": []
   },
   "source": [
    "# Syndrome measurements, an alternate view"
   ]
  },
  {
   "cell_type": "markdown",
   "id": "b00286a1",
   "metadata": {
    "tags": [
     "remove-cell"
    ]
   },
   "source": [
    "<div style=\"width:100%;text-align:right;font-size:0.75em;opacity:0.2\">Latex macros</div>\n",
    "$ \\newcommand{\\ket}[1]{|#1\\rangle} $\n",
    "$ \\newcommand{\\bra}[1]{\\langle #1|} $\n",
    "$\\newcommand{\\iu}{{i\\mkern1mu}}$\n",
    "$ \\newcommand{\\e}{\\mathrm{e}}$\n",
    "$\\newcommand{\\bigo}{\\mathcal{O}}$\n",
    "$\\newcommand{\\set}[1]{\\{#1\\}}$\n",
    "$\\newcommand{\\oper}[1]{\\mathcal{#1}}$\n",
    "$\\newcommand{\\st}[1]{\\mathcal{#1}}$\n",
    "$\\newcommand{\\vecs}[1]{\\mathcal{#1}}$\n",
    "$\\newcommand{\\group}[1]{\\mathcal{#1}}$\n",
    "$\\newcommand{\\union}{\\hspace{0.25em}\\cup\\hspace{0.25em}}$"
   ]
  },
  {
   "cell_type": "markdown",
   "id": "5fdeb4f4-ee22-48ed-824a-c1217dca8cd0",
   "metadata": {},
   "source": [
    "In this notebook, we will further explore a technique to measure qubits, that we used before for the repetition and Shor codes. Recall, that there our goal was not to perform a destructive measurement of the entire state, but only a partial measurement that determined whether an error had occured on the state or not. Let's see if we can generalize this.\n",
    "\n",
    "Suppose you have a qubit in some unknown state $\\ket{\\psi}$, and you want to measure operator $M$ on it. To make our measurement, we are going to use an ancilla to store the results of our measurement. This is achieved with the following simple circuit.\n",
    "\n",
    "![Non-destructive measurement](../../images/NonDestructiveMeasurement.png)\n",
    "\n",
    "To see how this works, let's first look at an example."
   ]
  },
  {
   "cell_type": "markdown",
   "id": "ef172613-8143-4e02-ae70-c8454fb693e4",
   "metadata": {},
   "source": [
    "### Non-destructive measurement of $Z$\n",
    "\n",
    "Let $\\ket{\\psi}= \\alpha\\ket{0} + \\beta\\ket{1}$, and let $M=Z$ be the operator we want to measure. What is the expected result?\n",
    "\n",
    "|measurement outcome|probability |post-measure state of qubit 0|\n",
    "|:-----------------:|:----------:|:---------------------------:|\n",
    "|       0           |$\\lvert \\alpha \\rvert^2$|          $\\ket{0}$          |\n",
    "|       1           |$\\lvert \\beta\\rvert^2$ |          $\\ket{1}$          |\n",
    "\n",
    "\n",
    "Now, to do this measurement, we append an ancilla to the state and execute the following circuit, where the $0$th qubit is the one being measured, and the $1$st qubit is the ancilla."
   ]
  },
  {
   "cell_type": "code",
   "execution_count": 2,
   "id": "0672e346-79e1-411d-afd0-0b681676b453",
   "metadata": {},
   "outputs": [
    {
     "data": {
      "image/png": "[encoded data removed]",
      "text/plain": [
       "<PIL.Image.Image image mode=RGB size=263x90>"
      ]
     },
     "metadata": {},
     "output_type": "display_data"
    }
   ],
   "source": [
    "import stac\n",
    "circ = stac.Circuit()\n",
    "circ.append('H', 1)\n",
    "circ.append('CZ', 1, 0)\n",
    "circ.append('H', 1)\n",
    "circ.append('MR', 1)\n",
    "circ.draw()"
   ]
  },
  {
   "cell_type": "markdown",
   "id": "63140cbe-163b-434a-a408-18afea47aba5",
   "metadata": {},
   "source": [
    "Let's work our way through this circuit (ignoring any normalization factors). First, \n",
    "\\begin{align}\n",
    " \\ket{\\psi}\\ket{0} &\\stackrel{H}{\\to} \\ket{\\psi}\\ket{0} + \\ket{\\psi}\\ket{1}, \\\\\n",
    "                   &\\stackrel{CZ_{10}}{\\to} \\ket{\\psi}\\ket{0} + (Z\\ket{\\psi})\\ket{1}, \\\\\n",
    "                   &\\stackrel{H}{\\to} \\ket{\\psi}(\\ket{0}+\\ket{1}) + (Z\\ket{\\psi})(\\ket{0}-\\ket{1}),\\\\\n",
    "                   &= (\\ket{\\psi} + Z\\ket{\\psi})\\ket{0} + (\\ket{\\psi} - Z\\ket{\\psi})\\ket{1}, \\\\\n",
    "                   &= (\\alpha\\ket{0} + \\beta\\ket{1} + \\alpha\\ket{0} - \\beta\\ket{1})\\ket{0} + (\\alpha\\ket{0} + \\beta\\ket{1} - \\alpha\\ket{0} + \\beta\\ket{1})\\ket{1}, \\\\\n",
    "                   &= \\alpha\\ket{00} + \\beta\\ket{11}\n",
    "\\end{align}\n",
    "\n",
    "At this point, if we measure the ancilla, then the outcomes are\n",
    "\n",
    "|measurement outcome|probability |post-measure state of qubit 0|\n",
    "|:-----------------:|:----------:|:---------------------------:|\n",
    "|       0           |$\\lvert \\alpha\\rvert ^2$|          $\\ket{0}$          |\n",
    "|       1           |$\\lvert \\beta\\rvert^2$ |          $\\ket{1}$          |\n",
    "\n",
    "As we can see, this is exactly what we wanted.\n",
    "\n",
    "*Question:* Insert the normalization factors into the circuit above and ensure the state remains normalized."
   ]
  },
  {
   "cell_type": "markdown",
   "id": "de4cd4a0-b2fd-4b1c-93ee-fcdeb2bdf3f5",
   "metadata": {},
   "source": [
    "## Non-destructive measurements of $M$\n",
    "\n",
    "### Case 1: $M$ is a one-qubit operator\n",
    "\n",
    "In general, how does the mathematics work out. We have the circuit\n",
    "\n",
    "![Non-destructive measurement](../../images/NonDestructiveMeasurement.png)\n",
    "\n",
    "The state at the end of the circuit will be\n",
    "\\begin{align}\n",
    "(\\ket{\\psi} + M\\ket{\\psi})\\ket{0} + (\\ket{\\psi} - M\\ket{\\psi})\\ket{1}\n",
    "\\end{align}\n",
    "\n",
    "Let $M$ have an eigenbasis $\\{\\ket{e_0}, \\ket{e_1}\\}$, i.e.\n",
    "\\begin{align}\n",
    " M\\ket{e_0} &= \\ket{e_0}, \\\\\n",
    " M\\ket{e_1} &= -\\ket{e_1}. \n",
    "\\end{align}\n",
    "\n",
    "Then, if we expand $\\ket{\\psi} = \\alpha\\ket{e_0} + \\beta\\ket{e_1}$, the algebra is the same, \n",
    "\\begin{align}\n",
    "(\\ket{\\psi} + M\\ket{\\psi})\\ket{0} + (\\ket{\\psi} - M\\ket{\\psi})\\ket{1} &= (\\alpha\\ket{e_0} + \\beta\\ket{e_1} + \\alpha\\ket{e_0} - \\beta\\ket{e_1})\\ket{0} + (\\alpha\\ket{e_0} + \\beta\\ket{e_1} - \\alpha\\ket{e_0} + \\beta\\ket{e_1})\\ket{1}, \\\\\n",
    " &= \\alpha\\ket{e_00} + \\beta\\ket{e_11}.\n",
    "\\end{align}\n",
    "Now, if we measure the ancilla, then outcomes are\n",
    "\n",
    "|measurement outcome|probability |post-measure state of qubit 0  |\n",
    "|:-----------------:|:----------:|:-----------------------------:|\n",
    "|       0           |$\\lvert \\alpha\\rvert^2$|          $\\ket{e_0}$          |\n",
    "|       1           |$\\lvert \\beta\\rvert^2$ |          $\\ket{e_1}$          |\n",
    "\n",
    "In other words, measuring the ancilla in the computational basis has measured qubit 0 in the $M$ basis."
   ]
  },
  {
   "cell_type": "markdown",
   "id": "30835eba-fd60-4dc7-99c7-b68538c387a3",
   "metadata": {},
   "source": [
    "### Case 2: $M$ is a multi-qubit operator\n",
    "\n",
    "Does this process work if we want to measure a multi-qubit state, using a multi-qubit Pauli operator? As an example, let $\\ket{\\psi}$ be a three-qubit state, and let $M = M_1\\otimes M_2 \\otimes M_3$. Then, the circuit will be as follows.\n",
    "\n",
    "![Non-destructive measurement-multi](../../images/NonDestructiveMeasurement-multi.png)\n",
    "\n",
    "Recall that every element in the Pauli group only has two eigenvalues $\\pm 1$ (unless we have something like $\\iu X$). So $M$ will have an three-qubit eigenbasis $\\{\\ket{e_0}_3, \\ket{e_1}_3\\}$, i.e.\n",
    "\\begin{align}\n",
    " M\\ket{e_0}_3 &= \\ket{e_0}_3, \\\\\n",
    " M\\ket{e_1}_3 &= -\\ket{e_1}_3. \n",
    "\\end{align}\n",
    "\n",
    "Hence, the mathematics will continue to hold (check if you are unconvinced) and measuring the ancilla in the computational basis will be equivalent to measuring the data qubits in $M$ basis.\n",
    "\n",
    "So, to measure, say $X_0Z_1$, we would implement the circuit below."
   ]
  },
  {
   "cell_type": "code",
   "execution_count": 3,
   "id": "d467cd44-541e-4309-a38a-ee0e21b53f2c",
   "metadata": {},
   "outputs": [
    {
     "data": {
      "image/png": "[encoded data removed]",
      "text/plain": [
       "<PIL.Image.Image image mode=RGB size=301x126>"
      ]
     },
     "metadata": {},
     "output_type": "display_data"
    }
   ],
   "source": [
    "circ = stac.Circuit()\n",
    "circ.append('H', 2)\n",
    "circ.append('CX', 2, 0)\n",
    "circ.append('CZ', 2, 1)\n",
    "circ.append('H', 2)\n",
    "circ.append('MR', 2)\n",
    "circ.draw()"
   ]
  },
  {
   "cell_type": "markdown",
   "id": "6cb741d7-b5b3-47b2-a5ec-fa801b3195b1",
   "metadata": {},
   "source": [
    "## Measurement of eigenstates\n",
    "One of the features of the measurement process described is that measuring an arbitrary operator on a state will destroy the superposition of the state (as governed by the rules of quantum mechanics). However, if the data qubits are in state $\\ket{\\psi}$. which is an eigenstate of the operator $M$, then there is no destruction.\n",
    "\n",
    "Let's examine two possiblities for the state at the end of the circuit, but before measurement.\n",
    "\\begin{align}\n",
    "\\ket{\\Phi} = (\\ket{\\psi} + M\\ket{\\psi})\\ket{0} + (\\ket{\\psi} - M\\ket{\\psi})\\ket{1},\n",
    "\\end{align}\n",
    "where $\\ket{\\psi}$ is an $n$-qubit state and $M$ is any $n$-qubit Pauli operator.\n",
    "\n",
    "### Case 1: +1 eigenstate.\n",
    "If $M\\ket{\\psi} = \\ket{\\psi}$, then\n",
    "\\begin{equation}\n",
    " \\ket{\\Phi} = \\ket{\\psi}\\ket{0}\n",
    "\\end{equation}\n",
    "Then, the outcome of the measurement will be deterministically 0 and the state of the data qubits will be unchanged.\n",
    "\n",
    "### Case 1: -1 eigenstate.\n",
    "If $M\\ket{\\psi} = -\\ket{\\psi}$, then\n",
    "\\begin{equation}\n",
    " \\ket{\\Phi} = \\ket{\\psi}\\ket{1}\n",
    "\\end{equation}\n",
    "Then, the outcome of the measurement will be deterministically 1 and the state of the data qubits will be unchanged.\n",
    "\n",
    "This analysis will be useful when we construct stabilizer quantum error-correction codes because the encoded state will always be an eigenstate of certain operators.\n"
   ]
  },
  {
   "cell_type": "markdown",
   "id": "ebd34af9-7a02-4c0c-be83-1083c80adcc4",
   "metadata": {},
   "source": [
    "## The special case of $X$ and $Z$ operators\n",
    "The circuit \n",
    "\n",
    "![Non-destructive measurement](../../images/NonDestructiveMeasurement.png)\n",
    "\n",
    "doesn't look like anything we saw before. But if $M$ is $X$ or $Z$ then it can be transformed into a different circuit.\n",
    "\n",
    "\n",
    "Recall the circuit identities:\n",
    "\n",
    "1. $X$ conjugation by $H$\n",
    "   \n",
    "   ![X-conjugation](../../images/Xconjugation.png)\n",
    "   \n",
    "2. $Z$ conjugation by $H$\n",
    "   \n",
    "   ![Z-conjugation](../../images/Zconjugation.png)\n",
    "   \n",
    "3. $CX$ conjugation by $H$\n",
    "   \n",
    "   ![CX-conjugation](../../images/CXidentity.png)\n",
    "   \n",
    "   Here, if we apply identity 1 to the first qubit, we obtain\n",
    "   \n",
    "   ![CX-conjugation](../../images/CXidentity1.png)\n",
    "   \n",
    "4. $CZ$ conjugation by $H$\n",
    "   \n",
    "   ![CZ-conjugation](../../images/CZidentity.png)\n",
    "   \n",
    "   Here, if we apply identity 2 to the first qubit, we obtain,\n",
    "   \n",
    "   ![CZ-conjugation](../../images/CZidentity1.png)\n",
    "\n",
    "Then recall that the syndrome circuit for the bit-flip repetition code was \n",
    "\n",
    "![repetition code syndrome](../../images/repetitioncodesyndrome.png)\n",
    "\n",
    "Using the third identity above, we can see that it transforms to\n",
    "\n",
    "![repetition code syndrome](../../images/repetitioncodesyndrome1.png)\n",
    "\n",
    "Then, we use $HH = I$ to get \n",
    "\n",
    "![repetition code syndrome](../../images/repetitioncodesyndrome2.png)\n",
    "\n",
    "Hence, we can see that in the repetition code, we are actually doing measurements of $Z \\otimes Z \\otimes I$ and $I \\otimes Z \\otimes Z$.\n",
    "\n"
   ]
  },
  {
   "cell_type": "markdown",
   "id": "d4b64a49-3b63-4f20-8a1e-dc3dcdedc4e3",
   "metadata": {},
   "source": [
    "#### Task 1 (On paper)\n",
    "What operators are being measured in the repetition code for phase-flips?"
   ]
  },
  {
   "cell_type": "code",
   "execution_count": null,
   "id": "9c8c1106-b315-41d3-839e-a7a7db9c5cec",
   "metadata": {},
   "outputs": [],
   "source": []
  }
 ],
 "metadata": {
  "kernelspec": {
   "display_name": "Python 3 (ipykernel)",
   "language": "python",
   "name": "python3"
  },
  "language_info": {
   "codemirror_mode": {
    "name": "ipython",
    "version": 3
   },
   "file_extension": ".py",
   "mimetype": "text/x-python",
   "name": "python",
   "nbconvert_exporter": "python",
   "pygments_lexer": "ipython3",
   "version": "3.9.15"
  },
  "widgets": {
   "application/vnd.jupyter.widget-state+json": {
    "state": {},
    "version_major": 2,
    "version_minor": 0
   }
  }
 },
 "nbformat": 4,
 "nbformat_minor": 5
}
