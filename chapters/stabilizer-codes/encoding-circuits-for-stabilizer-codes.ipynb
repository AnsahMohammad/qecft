{
 "cells": [
  {
   "cell_type": "markdown",
   "id": "a23fe73c",
   "metadata": {
    "tags": []
   },
   "source": [
    "# Encoding circuits for stabilizer codes"
   ]
  },
  {
   "cell_type": "markdown",
   "id": "b00286a1",
   "metadata": {
    "tags": [
     "remove-cell"
    ]
   },
   "source": [
    "<div style=\"width:100%;text-align:right;font-size:0.75em;opacity:0.2\">Latex macros</div>\n",
    "$ \\newcommand{\\ket}[1]{|#1\\rangle} $\n",
    "$ \\newcommand{\\bra}[1]{\\langle #1|} $\n",
    "$\\newcommand{\\iu}{{i\\mkern1mu}}$\n",
    "$ \\newcommand{\\e}{\\mathrm{e}}$\n",
    "$\\newcommand{\\bigo}{\\mathcal{O}}$\n",
    "$\\newcommand{\\set}[1]{\\{#1\\}}$\n",
    "$\\newcommand{\\oper}[1]{\\mathcal{#1}}$\n",
    "$\\newcommand{\\st}[1]{\\mathcal{#1}}$\n",
    "$\\newcommand{\\vecs}[1]{\\mathcal{#1}}$\n",
    "$\\newcommand{\\group}[1]{\\mathcal{#1}}$\n",
    "$\\newcommand{\\union}{\\hspace{0.25em}\\cup\\hspace{0.25em}}$"
   ]
  },
  {
   "cell_type": "markdown",
   "id": "134367fd-668b-41ce-a09a-ddeb767448fa",
   "metadata": {},
   "source": [
    "Here, we present an algorithm to construct the encoding circuit for stabilizer codes. We will use the Steane code as the guiding example."
   ]
  },
  {
   "cell_type": "markdown",
   "id": "6dfaeb28-524e-46cb-96cc-53319abfaf22",
   "metadata": {},
   "source": [
    "### Gottesman's method to construct logical zero state of stabilizer codes\n",
    "There is a very systematic method for creating the logical zero state using the stabilizer generator matrix [1]. The method is a three part process.\n",
    "\n",
    "1. Bring the generator matrix to standard form.\n",
    "2. Construct logical operators of the code.\n",
    "3. Use Gottesman's algorithm to determine the sequence of gates in the encoding circuit.\n",
    "\n",
    "Let's load up the Steane code."
   ]
  },
  {
   "cell_type": "code",
   "execution_count": 1,
   "id": "16e376ad-955b-4fde-9eaf-4096f428d7cc",
   "metadata": {},
   "outputs": [],
   "source": [
    "import stac"
   ]
  },
  {
   "cell_type": "code",
   "execution_count": 2,
   "id": "df99f7a7-6398-45df-99ca-bb89ef686586",
   "metadata": {},
   "outputs": [
    {
     "data": {
      "text/latex": [
       "$\\displaystyle                 \\left(\\begin{array}{ccccccc|ccccccc}\n",
       "                       1 & 1 & 1 & 1 & 0 & 0 & 0 & 0 & 0 & 0 & 0 & 0 & 0 & 0 \\\\\n",
       "1 & 1 & 0 & 0 & 1 & 1 & 0 & 0 & 0 & 0 & 0 & 0 & 0 & 0 \\\\\n",
       "1 & 0 & 1 & 0 & 1 & 0 & 1 & 0 & 0 & 0 & 0 & 0 & 0 & 0 \\\\\n",
       "0 & 0 & 0 & 0 & 0 & 0 & 0 & 1 & 1 & 1 & 1 & 0 & 0 & 0 \\\\\n",
       "0 & 0 & 0 & 0 & 0 & 0 & 0 & 1 & 1 & 0 & 0 & 1 & 1 & 0 \\\\\n",
       "0 & 0 & 0 & 0 & 0 & 0 & 0 & 1 & 0 & 1 & 0 & 1 & 0 & 1 \\\\\n",
       "\n",
       "                       \\end{array}\\right)                    $"
      ],
      "text/plain": [
       "<IPython.core.display.Math object>"
      ]
     },
     "metadata": {},
     "output_type": "display_data"
    }
   ],
   "source": [
    "cd = stac.CommonCodes.generate_code('[[7,1,3]]')\n",
    "stac.print_matrix(cd.generator_matrix, augmented=True)"
   ]
  },
  {
   "cell_type": "markdown",
   "id": "e65e1ba9-4e31-4eec-877b-d3b287deaaf2",
   "metadata": {},
   "source": [
    "#### 1. Bring the generator matrix to standard form\n",
    "The matrix above is the generator matrix $H$ of the Steane code. It has $m=6$ generators/row, and $2n=14$ columns, so $n=7$ physical qubits. And it encodes $k=n-m=1$ logical qubit.\n",
    "\n",
    "We will now transform it to the standard form. What does this mean? Note that each row of $H$ represents a generator of the stabilizer group associated with the Steane code. We can manipulate the generators and qubits in the following way.\n",
    "\n",
    "* We know from group theory that we can replace one of the generators $g_i$ with $g_ig_j$ where $g_j$ is another generator, and we will have obtained a new generating set for the same group. Multiplying generators corresponds to adding rows of $H$ (why?). \n",
    "* We can also reindex the generators, which corresponds to permuting the rows $H$. \n",
    "* We can also reindex the physical qubits, which corresponds to simultaneously permuting the columns on both sides of $H$. \n",
    "\n",
    "All of these operations on the generators don't change the code, only create a new representation of it. The corresponding operations on $H$ are simply those that we do when doing Gaussian reduction on a matrix. Recall that any matrix can brought into a reduced row echelon form (RREF), which is unique. We will use this fact to create the standard from of $H$. The goal is to simplify the generators so they have as few Paulis in them as possible.\n",
    "\n",
    "The standard form is obtained as follows. First bring the $X$ part of $H$ to RREF, remembering to permute columns on both sides. This reduces $H$ to\n",
    "\\begin{equation}\n",
    "H = \\left(\\begin{array}{cc|cc}\n",
    "I & A & B & C \\\\\n",
    "0 & 0 & D & E\n",
    "\\end{array}\\right).\n",
    "\\end{equation}\n",
    "Let $r$ be the rank of the $X$ part of $H$. Then, the blocks have\n",
    "\n",
    "* $r$ and $m-r$ rows respectively,\n",
    "* $r$ and $n-r$ columns respectively.\n",
    "\n",
    "If we then bring $E$ to RREF, due to the properties of the code, $H$ will reduce to\n",
    "\\begin{equation}\n",
    "H = \\left(\\begin{array}{ccc|ccc}\n",
    "I & A_1 & A_2 & B & C_1 & C_2 \\\\\n",
    "0 & 0   & 0   & D & I   & E_2\n",
    "\\end{array}\\right).\n",
    "\\end{equation}\n",
    "Here, the colums of the blocks are of size $r$, $m-r$ and $k$ respectively.\n",
    "\n",
    "This is the standard form of $H$. For the Steane code, it is as follows."
   ]
  },
  {
   "cell_type": "code",
   "execution_count": 3,
   "id": "4308d596-a111-4f58-87e7-8e538c44cc71",
   "metadata": {},
   "outputs": [
    {
     "data": {
      "text/latex": [
       "$\\displaystyle                 \\left(\\begin{array}{ccccccc|ccccccc}\n",
       "                       1 & 0 & 0 & 1 & 0 & 1 & 1 & 0 & 0 & 0 & 0 & 0 & 0 & 0 \\\\\n",
       "0 & 1 & 0 & 1 & 1 & 0 & 1 & 0 & 0 & 0 & 0 & 0 & 0 & 0 \\\\\n",
       "0 & 0 & 1 & 1 & 1 & 1 & 0 & 0 & 0 & 0 & 0 & 0 & 0 & 0 \\\\\n",
       "0 & 0 & 0 & 0 & 0 & 0 & 0 & 1 & 1 & 1 & 1 & 0 & 0 & 0 \\\\\n",
       "0 & 0 & 0 & 0 & 0 & 0 & 0 & 1 & 0 & 1 & 0 & 1 & 0 & 1 \\\\\n",
       "0 & 0 & 0 & 0 & 0 & 0 & 0 & 0 & 1 & 1 & 0 & 0 & 1 & 1 \\\\\n",
       "\n",
       "                       \\end{array}\\right)                    $"
      ],
      "text/plain": [
       "<IPython.core.display.Math object>"
      ]
     },
     "metadata": {},
     "output_type": "display_data"
    }
   ],
   "source": [
    "cd.construct_standard_form()\n",
    "stac.print_matrix(cd.standard_generator_matrix, augmented=True)"
   ]
  },
  {
   "cell_type": "markdown",
   "id": "9324820d-3f48-4b00-9d5b-4c189b8a03d5",
   "metadata": {},
   "source": [
    "#### Task 1\n",
    "Identify $A_1, A_2, B, C_1, C_2, D$ and $E_2$ for the matrix above."
   ]
  },
  {
   "cell_type": "markdown",
   "id": "f3512da3-7b97-4efe-9dda-f33f0f5a0fb3",
   "metadata": {},
   "source": [
    "### 2. Construct logical operators of the code\n",
    "Logical operators are operators that act directly on the encoded state. For instance, the logical $\\bar{X}$ acts as follows on the encoded basis states $\\ket{\\bar 0}$ and $\\ket{\\bar 1}$.\n",
    "\\begin{align}\n",
    " \\bar{X}\\ket{\\bar 0} &= \\ket{\\bar 1},\n",
    " \\bar{X}\\ket{\\bar 1} = \\ket{\\bar 0}.\n",
    "\\end{align}\n",
    "Similarly, the logical $\\bar{Z}$ acts as follows.\n",
    "\\begin{align}\n",
    " \\bar{X}\\ket{\\bar 0} &= \\ket{\\bar 0},\n",
    " \\bar{X}\\ket{\\bar 1} = -\\ket{\\bar 1}.\n",
    "\\end{align}\n",
    "\n",
    "For a stabilizer code, Gottesman's presented a method to construct them [2]. The claim is that, the logical $\\bar{X}$s are the rows of the matrix\n",
    "$$(0 E_2^T I | E_2^T(C_1^T + C_2^T) 0 0).$$\n",
    "Remember that some codes encode more than one logical qubit, so if a code encodes $k$ logical qubit, we will need $k$ logical $\\bar{X}$s.\n",
    "\n",
    "Similarly, the logical $\\bar{Z}$s are\n",
    "$$(0 0 0 | A_2^T 0 I).$$\n",
    "\n",
    "We can read off these from $H$, and for the Steane code, they are as follows."
   ]
  },
  {
   "cell_type": "code",
   "execution_count": 4,
   "id": "eea335ef-0e43-4981-aecf-991b4050f43e",
   "metadata": {},
   "outputs": [
    {
     "name": "stdout",
     "output_type": "stream",
     "text": [
      "Logical X = [[0 0 0 0 1 1 1 0 0 0 0 0 0 0]]\n",
      "Logical Z = [[0 0 0 0 0 0 0 1 1 0 0 0 0 1]]\n"
     ]
    }
   ],
   "source": [
    "cd.construct_logical_operators()\n",
    "print(\"Logical X =\", cd.logical_xs)\n",
    "print(\"Logical Z =\", cd.logical_zs)"
   ]
  },
  {
   "cell_type": "markdown",
   "id": "72f1d90f-2f5e-446d-9a6d-f890719fa64e",
   "metadata": {},
   "source": [
    "Note that the logical $\\bar{X}$ and $\\bar{Z}$ are not unique. For instance, for the Steane code, the operators\n",
    "\\begin{align}\n",
    "\\bar{X} &= X_0X_1X_2X_3X_4X_5X_6, \\\\\n",
    "\\bar{Z} &= Z_0Z_1Z_2Z_3Z_4Z_5Z_6,\n",
    "\\end{align}\n",
    "also act just as well."
   ]
  },
  {
   "cell_type": "markdown",
   "id": "503fb568-ec6e-4a07-bc1b-b93b7b0df54e",
   "metadata": {},
   "source": [
    "#### Task 1\n",
    "Use `stac` to construct the logical operators for the $[[5,1,3]]$ code."
   ]
  },
  {
   "cell_type": "code",
   "execution_count": 1,
   "id": "ede4d924-3af5-4e5f-a3c4-586296f0e382",
   "metadata": {},
   "outputs": [],
   "source": [
    "#"
   ]
  },
  {
   "cell_type": "markdown",
   "id": "f5b147d5-9c57-416f-9bac-229236979cc8",
   "metadata": {},
   "source": [
    "### 3. Use Gottesman's algorithm to determine the sequence of gates in the encoding circuit\n",
    "Now we are ready to construct the encoding circuit for the zero state. It's a very simple algorithm. Let there be $n$ qubits, and let\n",
    "\n",
    "* qubits $0$ to $n-k-1$ be the ancilla qubits in state $\\ket{0}$, and\n",
    "* qubits $n-k$ to $n-1$ qubits ($k$ total) be in the unknown state $\\ket{\\psi}$, which is to be encoded. \n",
    "\n",
    "The algorithm is as follows.\n",
    "\n",
    "```\n",
    "encoding_circuit = []\n",
    "for i in range(k):\n",
    "    for j in range(r, n-k):\n",
    "        if logical_xs[i, j]:\n",
    "            encoding_circuit.append([\"cx\", n-k+i, j])\n",
    "\n",
    "for i in range(r):\n",
    "    encoding_circuit.append([\"h\", i])\n",
    "    for j in range(n):\n",
    "        if i == j:\n",
    "            continue\n",
    "        if standard_gens_x[i, j] and standard_gens_z[i, j]:\n",
    "            encoding_circuit.append([\"cx\", i, j])\n",
    "            encoding_circuit.append([\"cz\", i, j])\n",
    "        elif standard_gens_x[i, j]:\n",
    "            encoding_circuit.append([\"cx\", i, j])\n",
    "        elif standard_gens_z[i, j]:\n",
    "            encoding_circuit.append([\"cz\", i, j])\n",
    "```\n",
    "\n",
    "One subtlety here is that instead of using the complex $Y$ gate, we instead let $Y=ZX$, which is a real matrix. So, the place where we have to apply $CY$, we apply $CX$ followed by $CZ$.\n",
    "\n",
    "\n",
    "Here, we will let $\\ket{\\psi} = \\ket{0}$. Executing this algorithm, we get the circuit as follows."
   ]
  },
  {
   "cell_type": "code",
   "execution_count": 6,
   "id": "5d179a58-5498-42d5-a18a-19f45fbae9a0",
   "metadata": {},
   "outputs": [
    {
     "data": {
      "image/png": "[encoded data removed]",
      "text/plain": [
       "<PIL.Image.Image image mode=RGB size=470x240>"
      ]
     },
     "metadata": {},
     "output_type": "display_data"
    }
   ],
   "source": [
    "enc_circ = cd.construct_encoding_circuit()\n",
    "enc_circ.draw()"
   ]
  },
  {
   "cell_type": "markdown",
   "id": "bcc3b5b3-3993-455d-9ec1-9134c1031cbc",
   "metadata": {},
   "source": [
    "We should check that this produces the right state. We should produce the state\n",
    "$$\\ket{\\bar 0} = \\ket{0000000} + \\ket{1100110}+ \\ket{1111000} + \\ket{0011110}$$\n",
    "$$+ \\ket{1010101} + \\ket{0110011}+ \\ket{0101101} + \\ket{1001011}.$$"
   ]
  },
  {
   "cell_type": "code",
   "execution_count": 7,
   "id": "35d7e372-b9df-421d-9d4e-468ec7ddf128",
   "metadata": {},
   "outputs": [
    {
     "name": "stdout",
     "output_type": "stream",
     "text": [
      "  basis    amplitude\n",
      "-------  -----------\n",
      "0000000        0.354\n",
      "1111000        0.354\n",
      "1100110        0.354\n",
      "0011110        0.354\n",
      "1010101        0.354\n",
      "0101101        0.354\n",
      "0110011        0.354\n",
      "1001011        0.354\n"
     ]
    }
   ],
   "source": [
    "enc_circ.simulate()"
   ]
  },
  {
   "cell_type": "markdown",
   "id": "ddd0025d-093e-4096-8cfa-365ddb8843e6",
   "metadata": {},
   "source": [
    "We can similarly, create the logical one state. There are two ways go about this. Either, \n",
    "\n",
    "1. We feed in the $\\ket{1}$ state into the circuit, or \n",
    "2. We use the logical $\\bar{X}$ to flip the logical zero state. \n",
    "\n",
    "Let's do both."
   ]
  },
  {
   "cell_type": "code",
   "execution_count": 9,
   "id": "1c2ddd1e-d2bd-4489-bc7d-a3bee234499c",
   "metadata": {},
   "outputs": [
    {
     "data": {
      "image/png": "[encoded data removed]",
      "text/plain": [
       "<PIL.Image.Image image mode=RGB size=470x240>"
      ]
     },
     "metadata": {},
     "output_type": "display_data"
    },
    {
     "name": "stdout",
     "output_type": "stream",
     "text": [
      "  basis    amplitude\n",
      "-------  -----------\n",
      "0110100        0.354\n",
      "1001100        0.354\n",
      "1010010        0.354\n",
      "0101010        0.354\n",
      "1100001        0.354\n",
      "0011001        0.354\n",
      "0000111        0.354\n",
      "1111111        0.354\n"
     ]
    }
   ],
   "source": [
    "# Option 1\n",
    "enc_circ_one = stac.Circuit()\n",
    "enc_circ_one.append('x',6)\n",
    "enc_circ_one += enc_circ\n",
    "enc_circ_one.draw()\n",
    "enc_circ_one.simulate()\n",
    "# looks good"
   ]
  },
  {
   "cell_type": "code",
   "execution_count": 10,
   "id": "c7067c96-b688-433d-b9e8-e7687c3cfbcd",
   "metadata": {},
   "outputs": [
    {
     "data": {
      "image/png": "[encoded data removed]",
      "text/plain": [
       "<PIL.Image.Image image mode=RGB size=540x247>"
      ]
     },
     "metadata": {},
     "output_type": "display_data"
    },
    {
     "name": "stdout",
     "output_type": "stream",
     "text": [
      "  basis    amplitude\n",
      "-------  -----------\n",
      "0110100        0.354\n",
      "1001100        0.354\n",
      "1010010        0.354\n",
      "0101010        0.354\n",
      "1100001        0.354\n",
      "0011001        0.354\n",
      "0000111        0.354\n",
      "1111111        0.354\n"
     ]
    }
   ],
   "source": [
    "# Option 2. Use the logical X created above\n",
    "enc_circ_flip = stac.Circuit()\n",
    "enc_circ_flip += enc_circ\n",
    "enc_circ_flip.append('TICK')\n",
    "enc_circ_flip.append('x', 4)\n",
    "enc_circ_flip.append('x', 5)\n",
    "enc_circ_flip.append('x', 6)\n",
    "enc_circ_flip.draw()\n",
    "enc_circ_flip.simulate()\n",
    "# looks good"
   ]
  },
  {
   "cell_type": "markdown",
   "id": "162fe008-56b5-44e6-be56-d0567a2a14fb",
   "metadata": {},
   "source": [
    "#### Task 2\n",
    "Use `stac` to create the encoding circuit for the $[[5,1,3]]$ code. Simulate it to determine the encoded zero and one states."
   ]
  },
  {
   "cell_type": "code",
   "execution_count": null,
   "id": "a17321f6-2b10-4c23-a629-63a33ed68b04",
   "metadata": {},
   "outputs": [],
   "source": [
    "#"
   ]
  },
  {
   "cell_type": "markdown",
   "id": "eeb07aad-10c7-4272-9279-aaeefa6cdab6",
   "metadata": {},
   "source": [
    "### Addendum\n",
    "Actually, there is minor 'mistake' in Gottesman's encoding circuit algorithm. For some codes, if you feed in a basis states at the input, it's possible the created logical basis state is a $-1$ eigenvectors of some of the stabilizer generators. This is not a real problem. On a real quantum computer, for real applications, we are unlikely to initialize our circuit in anything but the logical zero state. Instead, we create the states of interest by then manipulating the logical zero state using logical operations. However, there might be quantum information protocols where such unknown quantum states need to be encoded, where this fact is relevant.\n",
    "\n",
    "In any case, we can fix this problem, by using the concept of destabilizers. But I will defer this discussion to a later time."
   ]
  },
  {
   "cell_type": "markdown",
   "id": "279b65c2-63e6-4c06-8aa4-821f95f28b34",
   "metadata": {},
   "source": [
    "[1] D. Gottesman, Stabilizer Codes and Quantum Error Correction, arXiv:quant-ph/9705052.\n",
    "\n",
    "[2] Gaitan, Frank, Quantum Error Correction and Fault Tolerant Quantum Computing (CRC Press, 2008).\n"
   ]
  },
  {
   "cell_type": "code",
   "execution_count": null,
   "id": "01ac3b70-3e5e-4073-919e-3566dc9ee9d7",
   "metadata": {},
   "outputs": [],
   "source": []
  }
 ],
 "metadata": {
  "kernelspec": {
   "display_name": "Python 3 (ipykernel)",
   "language": "python",
   "name": "python3"
  },
  "language_info": {
   "codemirror_mode": {
    "name": "ipython",
    "version": 3
   },
   "file_extension": ".py",
   "mimetype": "text/x-python",
   "name": "python",
   "nbconvert_exporter": "python",
   "pygments_lexer": "ipython3",
   "version": "3.9.15"
  },
  "widgets": {
   "application/vnd.jupyter.widget-state+json": {
    "state": {},
    "version_major": 2,
    "version_minor": 0
   }
  }
 },
 "nbformat": 4,
 "nbformat_minor": 5
}
