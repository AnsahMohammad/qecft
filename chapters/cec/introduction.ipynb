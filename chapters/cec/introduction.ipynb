{
 "cells": [
  {
   "cell_type": "markdown",
   "id": "a23fe73c",
   "metadata": {
    "tags": []
   },
   "source": [
    "# Introduction to classical error correction"
   ]
  },
  {
   "cell_type": "markdown",
   "id": "b00286a1",
   "metadata": {
    "tags": [
     "remove-cell"
    ]
   },
   "source": [
    "<div style=\"width:100%;text-align:right;font-size:0.75em;opacity:0.2\">Latex macros</div>\n",
    "$ \\newcommand{\\ket}[1]{|#1\\rangle} $\n",
    "$ \\newcommand{\\bra}[1]{\\langle #1|} $\n",
    "$\\newcommand{\\iu}{{i\\mkern1mu}}$\n",
    "$ \\newcommand{\\e}{\\mathrm{e}}$\n",
    "$\\newcommand{\\bigo}{\\mathcal{O}}$\n",
    "$\\newcommand{\\set}[1]{\\{#1\\}}$\n",
    "$\\newcommand{\\oper}[1]{\\mathcal{#1}}$\n",
    "$\\newcommand{\\st}[1]{\\mathcal{#1}}$\n",
    "$\\newcommand{\\vecs}[1]{\\mathcal{#1}}$\n",
    "$\\newcommand{\\group}[1]{\\mathcal{#1}}$\n",
    "$\\newcommand{\\union}{\\hspace{0.25em}\\cup\\hspace{0.25em}}$"
   ]
  },
  {
   "cell_type": "markdown",
   "id": "583107a7-08f1-4146-b935-f3f30bad4aab",
   "metadata": {},
   "source": [
    "The field of error correction is mainly concerned with information processing with unreliable physical appratus. In such computing or communication units, the information is subjected to errors, which must be dealt with, if the results of the information processing is to be trusted.\n",
    "\n",
    "While error correction for classical computation and communication is a well developed and has been for many decades, it is an active area of research in the field of quantum computation and communication. This development is necessary, as without quantum error correction we are unlikely to construct useful quantum computers with current and forseeable levels of engineering technology.\n",
    "\n",
    "The theory of quantum error correction (QEC) should be learned in tandem with classical error correction (CEC), as some of the most important quantum error correction codes (QECC), namely the Calderbank-Shor-Steane (CSS) codes, are built from classical error correction codes (CECC). Therefore, I review essential CEC theory before proceeding with QEC theory."
   ]
  },
  {
   "cell_type": "markdown",
   "id": "e3514d8f-6393-45b4-9783-fc449e73daf1",
   "metadata": {},
   "source": [
    "## A model for error correction problems\n",
    "Consider the scenario where Alice wants to send information to Bob, via a transmission line/channel. This channel is a noisy one, so any information (strings of bits for example) is subject to errors, for example bits are flipped or lost. \n",
    "\n",
    "![Error correction model](../../images/errorcorrectionmodel.png)\n",
    "\n",
    "\n",
    "Therefore, in order to reliably transmit information, Alice and Bob must agree on some method by which errors are detected and possibly corrected. The problem of finding such methods is one instance from the set of error correction problems.\n",
    "\n",
    "It may seem that the above scenario is very specialized to a communication problem, but we can imagine Alice and Bob to be two points of time in a computational circuit, where the different bits in the circuit experience errors.\n",
    "\n",
    "Finally, note that I have not made any mention of classical or quantum information in the above model, and this model is sufficient for the types of CECCs and QECCs I will discuss below."
   ]
  },
  {
   "cell_type": "markdown",
   "id": "d61632b1-5e62-4e1d-bf7b-1ebdd5d874f8",
   "metadata": {},
   "source": [
    "## Classical Error Correction\n",
    "I begin by making a more concrete model of the Alice-Bob scenario above. Suppose that Alice wants to send Bob some information, which is in the form of a long stream of bits, called the data stream. The information has to be sent through a noisy transmission channel, as stated above. A simple such channel is one in which, with probability $p$, every bit sent via the channel is flipped. Otherwise, with probability $1-p$, the bit is transmitted with no error. \n",
    "\n",
    "Suppose, that Alice wants to send the data stream $101$ to Bob. If she uses the naive strategy and sends the stream as is, the channel could corrupt the bits and, for instance, transform it into $100$. Bob would not have any way to knowing that an error occured during transmission or not. This method only succeeds if there is no error, which has probability $(1-p)^3$.\n",
    "\n",
    "### Repetition code\n",
    "Instead, Alice and Bob can agree on some process that increases the probability of correct transmission. One such method is called the 'repetition code'. In this method, instead of sending $0$, Alice sends the *block* of bits $000$, and instead of sending $1$, Alice sends the *block* $111$. This process is called *encoding*, and formally, we use a bar over the message to indicate its encoded form. Hence,\n",
    "$$ \\bar{0} = 000, \\quad \\bar{1} = 111.$$\n",
    "\n",
    "This means that if the data stream is $101$, then Alice sends the *code stream*, consisting of three code blocks,\n",
    "$$\\overline{101} == 111000111.$$\n",
    "\n",
    "Suppose, that Bob receives the corrupted code-stream $101100111$, in which the second and fourth bits have been flipped by the noisy channel. To correct any errors, he will apply a *majority voting algorithm* to each block of three bits in the received code-stream. The first block is $101$, and since there are two 1s in it and one 0, he infers that the first sent bit is likely to be 1. Similarly, he infers from the second and third blocks of three, that the second and third bits are likely to be 0 and 1. Hence, he correctly decodes the message to message was $101$.\n",
    "\n",
    "Notice that this method only works if there is at most one bit flip in each block of three. If there are two or more errors, then Bob inferred bit string will be different from the one Alice intended to send. For example, if the corrupted code-string was $101110111$, then using the same algorithm Bob infers that that message was $110$. "
   ]
  },
  {
   "cell_type": "markdown",
   "id": "0722dfb8-5302-4750-a1d4-79883b8c2f96",
   "metadata": {},
   "source": [
    "#### Task 1\n",
    "Complete the function `repetition_encode` that when passed a bit string, encodes it according to the repetition code.\n",
    "\n",
    "* Parameters:\\\n",
    "  `message` a `str`, guaranteed to only contain 0 or 1.\n",
    "* Returns:\\\n",
    "  A `str` that is the the encoded version of the `message`"
   ]
  },
  {
   "cell_type": "code",
   "execution_count": null,
   "id": "3f56076e-8473-4c30-aaa9-ff86a1530d84",
   "metadata": {},
   "outputs": [],
   "source": [
    "def repetition_encode(message):\n",
    "    pass"
   ]
  },
  {
   "cell_type": "markdown",
   "id": "c26032ff-dcde-44ee-a984-4581b09bf386",
   "metadata": {},
   "source": [
    "[See our solution](A00_Introduction_Solutions.ipynb#task1)"
   ]
  },
  {
   "cell_type": "markdown",
   "id": "cfa8f69d-9b59-4aef-acf2-303f1a2e3501",
   "metadata": {},
   "source": [
    "#### Task 2\n",
    "Complete the function `repetition_decode` that when passed a bit string, decodes it according to the repetition code. This include identifying any errors and correcting for them.\n",
    "\n",
    "* Parameters:\\\n",
    "  `received_message` a `str`, guaranteed to only contain 0 or 1, and length divisible by 3.\n",
    "* Returns:\\\n",
    "  A `str` that is the the decoded version of the `message`"
   ]
  },
  {
   "cell_type": "code",
   "execution_count": null,
   "id": "3704c2fd-ee8a-4ac1-8758-d00c5a0ab719",
   "metadata": {},
   "outputs": [],
   "source": [
    "def repetition_decode(received_message):\n",
    "    pass"
   ]
  },
  {
   "cell_type": "markdown",
   "id": "6a00b556-73ed-43b0-a15a-aab2d77465e8",
   "metadata": {},
   "source": [
    "[See our solution](A00_Introduction_Solutions.ipynb#task2)"
   ]
  },
  {
   "cell_type": "markdown",
   "id": "cf532b2d-1f7f-49d5-99d6-96717c41363d",
   "metadata": {},
   "source": [
    "Here is a script that generates random messages, run them though the encoder, then corrupts the result, and finally decodes them. Use this to check your answers."
   ]
  },
  {
   "cell_type": "code",
   "execution_count": null,
   "id": "80bae3d1-dcbe-4c20-aeb5-09b9aa6a901f",
   "metadata": {},
   "outputs": [],
   "source": [
    "# from random import randint\n",
    "\n",
    "# # these are the two parameters we need to set\n",
    "# message_length = 5\n",
    "# p = 0.1\n",
    "\n",
    "# # create a random message\n",
    "# message = ''.join([str(randint(0,1)) for i in range(message_length)])\n",
    "# print('message =', message)\n",
    "\n",
    "# # encode the message\n",
    "# encoded_message = repetition_encode(message)\n",
    "# print('encoded_message =', encoded_message)\n",
    "\n",
    "# # send it through the noisy channel\n",
    "# corrupted_message = ''\n",
    "# for c in encoded_message:\n",
    "#     if random.random() < p:\n",
    "#         if c == '0':\n",
    "#             corrupted_message += '1'\n",
    "#         else:\n",
    "#             corrupted_message += '0'\n",
    "#     else:\n",
    "#         corrupted_message += c\n",
    "# print('corrupted_message =', corrupted_message)\n",
    "        \n",
    "# # decode it\n",
    "# decoded_message = repetition_decode(corrupted_message)\n",
    "# print('decoded_message =', decoded_message)\n",
    "# print('Is message = decoded_message?', message == decoded_message)"
   ]
  },
  {
   "cell_type": "markdown",
   "id": "37c60f6a-99e6-47cc-8ca5-d52a5bf52c4e",
   "metadata": {},
   "source": [
    "### Probability analysis\n",
    "\n",
    "#### Task 3 (On paper)\n",
    "Using the repetition code, what is the probability that Bob correctly infers the correct bit-string? Each block of three is treated separately, so we only need to estimate the probability of correct inference from each block. Let $p$ be the probability of error on a single bit. Let the probability of an error on each bit be independent.\n",
    "\n",
    "What is the probability of \n",
    "\n",
    "* zero errors\n",
    "* one error\n",
    "* two errors\n",
    "* three errors.\n",
    "\n",
    "[See our solution](A00_Introduction_Solutions.ipynb#task3)"
   ]
  },
  {
   "cell_type": "markdown",
   "id": "eb5b3bd5-5ba8-47d5-9c16-cd5fd6fee4d0",
   "metadata": {},
   "source": [
    "#### Task 4\n",
    "Consider the case of when Alice and Bob do not use any error correction process. Then if Alice sends a single bit, the probability of Bob infering the wrong bit against the physical probability of error $p$ is as follows. Obviously, it's a straight line."
   ]
  },
  {
   "cell_type": "code",
   "execution_count": null,
   "id": "c90e82b3-1ae0-4511-801e-ebf38299a326",
   "metadata": {},
   "outputs": [],
   "source": [
    "import matplotlib.pyplot as plt\n",
    "import numpy as np\n",
    "\n",
    "# probability of error on transmitted bit\n",
    "p = np.linspace(0, 1, 100)\n",
    "# probability of incorrect inference by Bob\n",
    "pr_of_incorrect_inference = p\n",
    "\n",
    "_, ax = plt.subplots(figsize=(5, 5), layout='constrained');\n",
    "ax.plot(p, pr_of_incorrect_inference);\n",
    "ax.set_xlabel('probability of error on transmitted bit');\n",
    "ax.set_ylabel('probability of incorrect inference by Bob');"
   ]
  },
  {
   "cell_type": "markdown",
   "id": "cb6f2784-d3d4-4f88-90c8-e2b99e53c98c",
   "metadata": {},
   "source": [
    "When Alice and Bob do use error correction, plot the probability of incorrect inference by Bob vs the probability of error on a single bit $p$. Keep the line drawn above, so you can compare the two cases. For what values of $p$ is it beneficial to use error correction?"
   ]
  },
  {
   "cell_type": "code",
   "execution_count": null,
   "id": "28b2a047-10a4-4ab0-b66e-1f73d154bf27",
   "metadata": {},
   "outputs": [],
   "source": [
    "\n",
    "\n",
    "_, ax = plt.subplots(figsize=(5, 5), layout='constrained');\n",
    "ax.plot(p, pr_of_incorrect_inference, label='no error correction'); \n",
    "# you can uncomment the line below to add another plot to the same figure\n",
    "\n",
    "# ax.plot(p, pr_of_incorrect_inference, label='with error correction'); \n",
    "\n",
    "ax.set_xlabel('probability of error on transmitted bit');\n",
    "ax.set_ylabel('probability of incorrect inference by Bob');\n",
    "plt.legend();"
   ]
  },
  {
   "cell_type": "markdown",
   "id": "5bb3119d-9c7a-4de2-aa83-8647065f5591",
   "metadata": {},
   "source": [
    "[See our solution](A00_Introduction_Solutions.ipynb#task4)"
   ]
  },
  {
   "cell_type": "markdown",
   "id": "b73f84b7-3802-4451-925c-024dd07b2c22",
   "metadata": {},
   "source": [
    "Hopefully, you were able to show that if the probablity of error is low, then the error correction procedure helps in successfully transmitting the message."
   ]
  },
  {
   "cell_type": "markdown",
   "id": "b0b6a5ed-bdfd-4a0f-a93f-bdb83d329a98",
   "metadata": {},
   "source": [
    "#### Task 5 (On paper)\n",
    "Suppose that Alice has some encoded message. She wants to do some logical operations on the encoded message without decoding it first. How can she go about it? Concretely, how can she apply\n",
    "\n",
    "* A NOT operation, that takes $\\bar{0}$ to $\\bar{1}$, and $\\bar{1}$ to $\\bar{0}$.\n",
    "* An OR operation, that has the following truth table\n",
    "\n",
    "|    Input      |     Output     |\n",
    "|:-------------:|:--------------:|\n",
    "|$\\overline{00}$| $\\overline{0}$|\n",
    "|$\\overline{01}$| $\\overline{1}$|\n",
    "|$\\overline{10}$| $\\overline{1}$|\n",
    "|$\\overline{11}$| $\\overline{1}$|\n",
    "\n"
   ]
  },
  {
   "cell_type": "code",
   "execution_count": null,
   "id": "55225fec",
   "metadata": {},
   "outputs": [],
   "source": []
  }
 ],
 "metadata": {
  "kernelspec": {
   "display_name": "Python 3 (ipykernel)",
   "language": "python",
   "name": "python3"
  },
  "language_info": {
   "codemirror_mode": {
    "name": "ipython",
    "version": 3
   },
   "file_extension": ".py",
   "mimetype": "text/x-python",
   "name": "python",
   "nbconvert_exporter": "python",
   "pygments_lexer": "ipython3",
   "version": "3.10.8"
  },
  "widgets": {
   "application/vnd.jupyter.widget-state+json": {
    "state": {},
    "version_major": 2,
    "version_minor": 0
   }
  }
 },
 "nbformat": 4,
 "nbformat_minor": 5
}
