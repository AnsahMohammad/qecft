{
 "cells": [
  {
   "cell_type": "markdown",
   "id": "65e2bd0f",
   "metadata": {},
   "source": [
    "# A Methods Focused Guide to Quantum Error Correction and Fault-Tolerant Quantum Computation"
   ]
  },
  {
   "cell_type": "markdown",
   "id": "99daf799",
   "metadata": {},
   "source": [
    "## What will this book teach you?\n",
    "\n",
    "This mini-book limits itself to qubit stabilizer codes, which are among the most actively researched quantum error-correction codes. I wrote this mini-book more to teach myself than anyone else. The main questions that I wanted answered in this book are, how can I\n",
    "\n",
    "* Construct encoding, decoding and syndrome measurement circuits for stabilizer codes?\n",
    "\n",
    "* Algorithmically generate fault-tolerant quantum circuits for stabilizer codes?\n",
    "\n",
    "* Numerically compute the fault-tolerance thresholds of these circuits?"
   ]
  },
  {
   "cell_type": "markdown",
   "id": "74f2be92",
   "metadata": {},
   "source": [
    "## Why should you read this book?\n",
    "\n",
    "As an introductory guide to the subject matter, this mini-book is worth paying attention to because of two reasons:\n",
    "\n",
    "* This book focuses deeply on methods and algorithms. This is unlike many other introductions which limit themselves to abstract discussions, simple examples, and mathemtical proofs. While theorems and their proofs are an essential part of the book, the author believes that intuition and understanding cannot be built without getting one's hands dirty in algorithmic implementations and mathematical calculations.\n",
    "\n",
    "* This book is highly interactive. Each section is accompanied by mathematical or programming tasks that enhance the user's understanding of the material. Often, essential parts of the arguments are to be filled in by reader in these tasks.\n",
    "\n",
    "  While an online copy is viewable to entice potential readers, the source of this book - a set of Jupyter notebooks - should be downloaded and interactively read.\n",
    "  "
   ]
  },
  {
   "cell_type": "markdown",
   "id": "c8158647",
   "metadata": {},
   "source": [
    "## Stac, a software library for this book\n",
    "\n",
    "Stac stands for **Sta**bilizer **c**odes, and this library is designed to work with them. Many of the algorithms that I introduce in the book are implemented within this library. It is a very simply library and easy to pick up as you read the book. However, many of the tasks and exercises in the book can be completed in pure python and your favorite quantum SDK."
   ]
  },
  {
   "cell_type": "code",
   "execution_count": null,
   "id": "56360dde-603e-46f8-a53a-be8d0afccd92",
   "metadata": {},
   "outputs": [],
   "source": []
  }
 ],
 "metadata": {
  "kernelspec": {
   "display_name": "Python 3 (ipykernel)",
   "language": "python",
   "name": "python3"
  },
  "language_info": {
   "codemirror_mode": {
    "name": "ipython",
    "version": 3
   },
   "file_extension": ".py",
   "mimetype": "text/x-python",
   "name": "python",
   "nbconvert_exporter": "python",
   "pygments_lexer": "ipython3",
   "version": "3.9.15"
  }
 },
 "nbformat": 4,
 "nbformat_minor": 5
}
