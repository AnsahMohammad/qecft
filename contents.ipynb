{
 "cells": [
  {
   "cell_type": "markdown",
   "id": "330a0e2a",
   "metadata": {},
   "source": [
    "# A Methods Focused Guide to Quantum Error Correction and Fault-Tolerant Quantum Computation"
   ]
  },
  {
   "cell_type": "markdown",
   "id": "5909a000",
   "metadata": {},
   "source": [
    "## Table of Contents\n",
    "\n",
    "### Introduction \n",
    "\n",
    "* [About this book](chapters/introduction/book.ipynb)\n",
    "* [Stac installation, and a short guide](chapters/introduction/stac.ipynb)\n",
    "\n",
    "### Classical error-correction \n",
    "\n",
    "* [Introduction to classical error correction](chapters/cec/introduction.ipynb)\n",
    "* [A deeper dive into classical error correction](chapters/cec/a-deeper-dive.ipynb)\n",
    "\n",
    "### An example-oriented introduction to quantum error-correction \n",
    "\n",
    "* [Quantum repetition code for bit-flips](chapters/qec-intro/quantum-repetition-code-for-bit-flips.ipynb)\n",
    "* [Quantum repetition code for phase-flips](chapters/qec-intro/quantum-repetition-code-for-phase-flips.ipynb)\n",
    "* [The Shor Code](chapters/qec-intro/shor-code.ipynb)\n",
    "* [Syndrome measurements, an alternate view](chapters/qec-intro/measurements.ipynb)\n",
    "\n",
    "### Formal development of quantum error-correction \n",
    "\n",
    "* [Quantum codes](chapters/qec-formal/quantum-codes.ipynb)\n",
    "* [Quantum error-correcting codes](chapters/qec-formal/quantum-error-correcting-codes.ipynb)\n",
    "* [Quantum operations](chapters/qec-formal/quantum-operations.ipynb)\n",
    "\n",
    "### Stabilizer codes \n",
    "\n",
    "* [Pauli group](chapters/stabilizer-codes/pauli-group.ipynb)\n",
    "* [Stabilizer states](chapters/stabilizer-codes/stabilizer-states.ipynb)\n",
    "* [Stabilizer groups](chapters/stabilizer-codes/stabilizer-groups.ipynb)\n",
    "* [Stabilizer codes](chapters/stabilizer-codes/stabilizer-codes.ipynb)\n",
    "* [Vector form of Pauli operators and the generator matrix](chapters/stabilizer-codes/vector-form-of-pauli-operators-and-generator-matrix.ipynb)\n",
    "* [Some common codes](chapters/stabilizer-codes/some-common-codes.ipynb)\n",
    "* [Encoding circuits for stabilizer codes](chapters/stabilizer-codes/encoding-circuits-for-stabilizer-codes.ipynb)\n",
    "* [Decoding circuits for stabilizer codes](chapters/stabilizer-codes/decoding-circuits.ipynb)\n",
    "* [Syndrome measurements for stabilizer codes](chapters/stabilizer-codes/syndrome-measurements.ipynb)\n",
    "\n"
   ]
  }
 ],
 "metadata": {
  "kernelspec": {
   "display_name": "Python 3 (ipykernel)",
   "language": "python",
   "name": "python3"
  },
  "language_info": {
   "codemirror_mode": {
    "name": "ipython",
    "version": 3
   },
   "file_extension": ".py",
   "mimetype": "text/x-python",
   "name": "python",
   "nbconvert_exporter": "python",
   "pygments_lexer": "ipython3",
   "version": "3.10.8"
  }
 },
 "nbformat": 4,
 "nbformat_minor": 5
}
